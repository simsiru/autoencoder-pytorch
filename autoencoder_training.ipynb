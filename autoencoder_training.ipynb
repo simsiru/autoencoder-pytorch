{
 "cells": [
  {
   "cell_type": "code",
   "execution_count": 1,
   "metadata": {},
   "outputs": [],
   "source": [
    "import torch\n",
    "import torch.nn as nn\n",
    "from torch.utils.data import DataLoader\n",
    "from torchvision import datasets, transforms\n",
    "from torchvision.io import read_image\n",
    "\n",
    "from autoencoder import ConvAutoencoder\n",
    "from autoencoder_dataset import AutoencoderDataset\n",
    "\n",
    "import cv2\n",
    "import numpy as np\n",
    "import os\n",
    "\n",
    "device = torch.device(\"cuda\" if torch.cuda.is_available() else \"cpu\")"
   ]
  },
  {
   "cell_type": "code",
   "execution_count": 2,
   "metadata": {},
   "outputs": [],
   "source": [
    "\"\"\" transform = transforms.Compose([\n",
    "    #transforms.Resize((480, 480)),\n",
    "    transforms.ToTensor()\n",
    "    #transforms.Normalize((0.5), (0.5))\n",
    "]) \"\"\"\n",
    "transform = transforms.ToTensor()"
   ]
  },
  {
   "cell_type": "code",
   "execution_count": 3,
   "metadata": {},
   "outputs": [
    {
     "data": {
      "text/plain": [
       "\" dataiter = iter(data_loader)\\nimg = dataiter.next()\\n\\nimg = img[0].numpy().transpose(1, 2, 0)\\n#img = img[0].permute(1, 2, 0).numpy()\\nimg = cv2.cvtColor(img, cv2.COLOR_BGR2RGB)\\nprint(img)\\ncv2.imshow('Autoencoder input', img)\\ncv2.waitKey(0) \""
      ]
     },
     "execution_count": 3,
     "metadata": {},
     "output_type": "execute_result"
    }
   ],
   "source": [
    "#ae_data = AutoencoderDataset(img_dir='ae_images', transform=transform)\n",
    "ae_data = AutoencoderDataset(img_dir='ae_images')\n",
    "data_loader = DataLoader(dataset=ae_data, batch_size=16, shuffle=True)\n",
    "\n",
    "\n",
    "\"\"\" dataiter = iter(data_loader)\n",
    "img = dataiter.next()\n",
    "\n",
    "img = img[0].numpy().transpose(1, 2, 0)\n",
    "#img = img[0].permute(1, 2, 0).numpy()\n",
    "img = cv2.cvtColor(img, cv2.COLOR_BGR2RGB)\n",
    "print(img)\n",
    "cv2.imshow('Autoencoder input', img)\n",
    "cv2.waitKey(0) \"\"\""
   ]
  },
  {
   "cell_type": "code",
   "execution_count": 4,
   "metadata": {},
   "outputs": [],
   "source": [
    "model = ConvAutoencoder().to(device)\n",
    "#criterion = nn.MSELoss()\n",
    "criterion = nn.BCELoss()\n",
    "optimizer = torch.optim.Adam(model.parameters(), lr=1e-3, weight_decay=1e-5)\n",
    "\n",
    "num_epochs = 50"
   ]
  },
  {
   "cell_type": "code",
   "execution_count": 5,
   "metadata": {},
   "outputs": [
    {
     "name": "stdout",
     "output_type": "stream",
     "text": [
      "Epoch: 0, Loss: 0.6298\n",
      "Epoch: 1, Loss: 0.5675\n",
      "Epoch: 2, Loss: 0.5687\n",
      "Epoch: 3, Loss: 0.5390\n",
      "Epoch: 4, Loss: 0.5691\n",
      "Epoch: 5, Loss: 0.5205\n",
      "Epoch: 6, Loss: 0.5162\n",
      "Epoch: 7, Loss: 0.5873\n",
      "Epoch: 8, Loss: 0.5710\n",
      "Epoch: 9, Loss: 0.4605\n",
      "Epoch: 10, Loss: 0.4988\n",
      "Epoch: 11, Loss: 0.5438\n",
      "Epoch: 12, Loss: 0.5266\n",
      "Epoch: 13, Loss: 0.5451\n",
      "Epoch: 14, Loss: 0.4894\n",
      "Epoch: 15, Loss: 0.5348\n",
      "Epoch: 16, Loss: 0.5147\n",
      "Epoch: 17, Loss: 0.4563\n",
      "Epoch: 18, Loss: 0.3852\n",
      "Epoch: 19, Loss: 0.5730\n",
      "Epoch: 20, Loss: 0.5385\n",
      "Epoch: 21, Loss: 0.4428\n",
      "Epoch: 22, Loss: 0.5185\n",
      "Epoch: 23, Loss: 0.4697\n",
      "Epoch: 24, Loss: 0.5202\n",
      "Epoch: 25, Loss: 0.5483\n",
      "Epoch: 26, Loss: 0.5239\n",
      "Epoch: 27, Loss: 0.5249\n",
      "Epoch: 28, Loss: 0.4096\n",
      "Epoch: 29, Loss: 0.4892\n",
      "Epoch: 30, Loss: 0.5337\n",
      "Epoch: 31, Loss: 0.4794\n",
      "Epoch: 32, Loss: 0.5539\n",
      "Epoch: 33, Loss: 0.5249\n",
      "Epoch: 34, Loss: 0.4974\n",
      "Epoch: 35, Loss: 0.5298\n",
      "Epoch: 36, Loss: 0.4690\n",
      "Epoch: 37, Loss: 0.5149\n",
      "Epoch: 38, Loss: 0.4677\n",
      "Epoch: 39, Loss: 0.5291\n",
      "Epoch: 40, Loss: 0.5469\n",
      "Epoch: 41, Loss: 0.5765\n",
      "Epoch: 42, Loss: 0.5533\n",
      "Epoch: 43, Loss: 0.5290\n",
      "Epoch: 44, Loss: 0.5154\n",
      "Epoch: 45, Loss: 0.5044\n",
      "Epoch: 46, Loss: 0.5109\n",
      "Epoch: 47, Loss: 0.5321\n",
      "Epoch: 48, Loss: 0.4434\n",
      "Epoch: 49, Loss: 0.4690\n"
     ]
    }
   ],
   "source": [
    "for epoch in range(num_epochs):\n",
    "    for img in data_loader:\n",
    "        #img = img.reshape(-1, 28*28).to(device)\n",
    "        img = img.to(device)\n",
    "        recon = model(img)\n",
    "        loss = criterion(recon, img)\n",
    "\n",
    "        optimizer.zero_grad()\n",
    "        loss.backward()\n",
    "        optimizer.step()\n",
    "\n",
    "    print(f'Epoch: {epoch}, Loss: {loss.item():.4f}')"
   ]
  },
  {
   "cell_type": "code",
   "execution_count": 7,
   "metadata": {},
   "outputs": [],
   "source": [
    "\"\"\" SAVING ON GPU/CPU \n",
    "# 1) Save on GPU, Load on CPU\n",
    "device = torch.device(\"cuda\")\n",
    "model.to(device)\n",
    "torch.save(model.state_dict(), PATH)\n",
    "device = torch.device('cpu')\n",
    "model = Model(*args, **kwargs)\n",
    "model.load_state_dict(torch.load(PATH, map_location=device))\n",
    "# 2) Save on GPU, Load on GPU\n",
    "device = torch.device(\"cuda\")\n",
    "model.to(device)\n",
    "torch.save(model.state_dict(), PATH)\n",
    "model = Model(*args, **kwargs)\n",
    "model.load_state_dict(torch.load(PATH))\n",
    "model.to(device)\n",
    "# Note: Be sure to use the .to(torch.device('cuda')) function \n",
    "# on all model inputs, too!\n",
    "# 3) Save on CPU, Load on GPU\n",
    "torch.save(model.state_dict(), PATH)\n",
    "device = torch.device(\"cuda\")\n",
    "model = Model(*args, **kwargs)\n",
    "model.load_state_dict(torch.load(PATH, map_location=\"cuda:0\"))  # Choose whatever GPU device number you want\n",
    "model.to(device)\n",
    "# This loads the model to a given GPU device. \n",
    "# Next, be sure to call model.to(torch.device('cuda')) to convert the model’s parameter tensors to CUDA tensors\n",
    "\"\"\"\n",
    "\n",
    "torch.save(model.state_dict(), 'ae_model/ae_v1.pth')\n",
    "#model = Model(*args, **kwargs)\n",
    "#model.load_state_dict(torch.load(PATH))\n",
    "#model.to(device)"
   ]
  },
  {
   "cell_type": "code",
   "execution_count": 6,
   "metadata": {},
   "outputs": [],
   "source": [
    "ae_data = AutoencoderDataset(img_dir='ae_images_test')\n",
    "data_loader = DataLoader(dataset=ae_data, batch_size=1, shuffle=True)\n",
    "dataiter = iter(data_loader)\n",
    "test_img = dataiter.next()\n",
    "\n",
    "res = model(test_img.to(device))\n",
    "\n",
    "res = res[0].cpu().detach().numpy().transpose(1, 2, 0)\n",
    "res = cv2.cvtColor(res, cv2.COLOR_BGR2RGB)\n",
    "\n",
    "test_img = test_img[0].cpu().detach().numpy().transpose(1, 2, 0)\n",
    "test_img = cv2.cvtColor(test_img, cv2.COLOR_BGR2RGB)\n",
    "    \n",
    "cv2.imshow('Autoencoder | left: input, right: output', np.hstack((test_img, res)))\n",
    "cv2.waitKey(0)\n",
    "cv2.destroyAllWindows()"
   ]
  },
  {
   "cell_type": "code",
   "execution_count": 4,
   "metadata": {},
   "outputs": [
    {
     "name": "stdout",
     "output_type": "stream",
     "text": [
      "268\n"
     ]
    }
   ],
   "source": [
    "\"\"\" path, dirs, files = next(os.walk(\"ae_images\"))\n",
    "file_count = len(files)\n",
    "print(file_count) \"\"\""
   ]
  }
 ],
 "metadata": {
  "interpreter": {
   "hash": "810d00e667f89466661f08b6b09ffacb2fea6ea16f9ff8cbbe581f46c561ad67"
  },
  "kernelspec": {
   "display_name": "Python 3.9.7 ('tfod')",
   "language": "python",
   "name": "python3"
  },
  "language_info": {
   "codemirror_mode": {
    "name": "ipython",
    "version": 3
   },
   "file_extension": ".py",
   "mimetype": "text/x-python",
   "name": "python",
   "nbconvert_exporter": "python",
   "pygments_lexer": "ipython3",
   "version": "3.9.7"
  },
  "orig_nbformat": 4
 },
 "nbformat": 4,
 "nbformat_minor": 2
}
